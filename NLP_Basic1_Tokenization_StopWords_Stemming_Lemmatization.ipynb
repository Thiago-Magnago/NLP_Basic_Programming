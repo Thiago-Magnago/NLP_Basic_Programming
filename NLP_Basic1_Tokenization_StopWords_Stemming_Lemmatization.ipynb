{
  "nbformat": 4,
  "nbformat_minor": 0,
  "metadata": {
    "colab": {
      "name": "NLP_Basic1_Tokenization_StopWords_Stemming_Lemmatization.ipynb",
      "provenance": [],
      "include_colab_link": true
    },
    "kernelspec": {
      "name": "python3",
      "display_name": "Python 3"
    },
    "language_info": {
      "name": "python"
    }
  },
  "cells": [
    {
      "cell_type": "markdown",
      "metadata": {
        "id": "view-in-github",
        "colab_type": "text"
      },
      "source": [
        "<a href=\"https://colab.research.google.com/github/Thiago-Magnago/NLP_Basic_Programming/blob/main/NLP_Basic1_Tokenization_StopWords_Stemming_Lemmatization.ipynb\" target=\"_parent\"><img src=\"https://colab.research.google.com/assets/colab-badge.svg\" alt=\"Open In Colab\"/></a>"
      ]
    },
    {
      "cell_type": "markdown",
      "metadata": {
        "id": "JcZbwCqyluaN"
      },
      "source": [
        "###Basic Programming in NLP\n",
        "\n",
        "Exploring NLTK in strings\n",
        "\n",
        "EXERCISES\n",
        "\n",
        "String = \"Hello Mr. Smith, how are you doing today? The weather is great, and city is awesome.\n",
        "The sky is pinkish-blue. You shouldn't eat cardboard\"\n",
        "\n",
        "\n",
        "\n",
        "1. Tokenization (sentences)\n",
        "\n",
        "2. Tokenization (words)\n",
        "\n",
        "3. Stopwords\n",
        "\n",
        "4. Stemming (Porter and Lancaster)\n",
        "\n",
        "5. Lemmatization and Postag\n",
        "\n",
        "6. Word frequency graph"
      ]
    },
    {
      "cell_type": "code",
      "metadata": {
        "colab": {
          "base_uri": "https://localhost:8080/"
        },
        "id": "mL1wpE7RlnZj",
        "outputId": "392fd34a-8718-4ce7-fe30-a56fe7c314df"
      },
      "source": [
        "#import the nltk package\n",
        "import nltk\n",
        "nltk.download('punkt')"
      ],
      "execution_count": 34,
      "outputs": [
        {
          "output_type": "stream",
          "text": [
            "[nltk_data] Downloading package punkt to /root/nltk_data...\n",
            "[nltk_data]   Package punkt is already up-to-date!\n"
          ],
          "name": "stdout"
        },
        {
          "output_type": "execute_result",
          "data": {
            "text/plain": [
              "True"
            ]
          },
          "metadata": {
            "tags": []
          },
          "execution_count": 34
        }
      ]
    },
    {
      "cell_type": "code",
      "metadata": {
        "id": "opc8wbXfqX-T"
      },
      "source": [
        "text = \"Hello Mr. Smith, how are you doing today? The weather is great, and city is awesome. The sky is pinkish-blue. You shouldn't eat cardboard.\""
      ],
      "execution_count": 35,
      "outputs": []
    },
    {
      "cell_type": "markdown",
      "metadata": {
        "id": "D0ZnUS_iz7ZL"
      },
      "source": [
        "###1. Tokenization (sentences)"
      ]
    },
    {
      "cell_type": "code",
      "metadata": {
        "colab": {
          "base_uri": "https://localhost:8080/"
        },
        "id": "Pj7uFUKzrMxt",
        "outputId": "a19b453f-735f-4d20-bb64-6a087b822dbe"
      },
      "source": [
        "from nltk import sent_tokenize\n",
        "sentences = sent_tokenize(text)\n",
        "print(sentences)"
      ],
      "execution_count": 36,
      "outputs": [
        {
          "output_type": "stream",
          "text": [
            "['Hello Mr. Smith, how are you doing today?', 'The weather is great, and city is awesome.', 'The sky is pinkish-blue.', \"You shouldn't eat cardboard.\"]\n"
          ],
          "name": "stdout"
        }
      ]
    },
    {
      "cell_type": "markdown",
      "metadata": {
        "id": "7a42OV6az4os"
      },
      "source": [
        "###2. Tokenization (words)"
      ]
    },
    {
      "cell_type": "code",
      "metadata": {
        "colab": {
          "base_uri": "https://localhost:8080/"
        },
        "id": "9q7lE_4Jqeom",
        "outputId": "d8da27c8-82fc-47a0-e130-2232ad7af7f8"
      },
      "source": [
        "from nltk import word_tokenize\n",
        "tokens = word_tokenize(text)\n",
        "print(tokens)"
      ],
      "execution_count": 37,
      "outputs": [
        {
          "output_type": "stream",
          "text": [
            "['Hello', 'Mr.', 'Smith', ',', 'how', 'are', 'you', 'doing', 'today', '?', 'The', 'weather', 'is', 'great', ',', 'and', 'city', 'is', 'awesome', '.', 'The', 'sky', 'is', 'pinkish-blue', '.', 'You', 'should', \"n't\", 'eat', 'cardboard', '.']\n"
          ],
          "name": "stdout"
        }
      ]
    },
    {
      "cell_type": "markdown",
      "metadata": {
        "id": "Dj3yT7_9xuEw"
      },
      "source": [
        "###3. Stopwords"
      ]
    },
    {
      "cell_type": "code",
      "metadata": {
        "colab": {
          "base_uri": "https://localhost:8080/"
        },
        "id": "DGdZz4G3xoh4",
        "outputId": "7758eb55-a360-4914-ed76-bdb87631f381"
      },
      "source": [
        "nltk.download('stopwords')\n",
        "from nltk.corpus import stopwords"
      ],
      "execution_count": 38,
      "outputs": [
        {
          "output_type": "stream",
          "text": [
            "[nltk_data] Downloading package stopwords to /root/nltk_data...\n",
            "[nltk_data]   Unzipping corpora/stopwords.zip.\n"
          ],
          "name": "stdout"
        }
      ]
    },
    {
      "cell_type": "code",
      "metadata": {
        "id": "VXSyIEsIx1oi"
      },
      "source": [
        "stopWords_list = list(stopwords.words('english'))"
      ],
      "execution_count": 39,
      "outputs": []
    },
    {
      "cell_type": "code",
      "metadata": {
        "colab": {
          "base_uri": "https://localhost:8080/"
        },
        "id": "CBVcdvwAx3fE",
        "outputId": "460d3cd0-ef9b-42f3-cc4c-9e6fbfbedc6b"
      },
      "source": [
        "stopWords_list[0:10]"
      ],
      "execution_count": 40,
      "outputs": [
        {
          "output_type": "execute_result",
          "data": {
            "text/plain": [
              "['i', 'me', 'my', 'myself', 'we', 'our', 'ours', 'ourselves', 'you', \"you're\"]"
            ]
          },
          "metadata": {
            "tags": []
          },
          "execution_count": 40
        }
      ]
    },
    {
      "cell_type": "code",
      "metadata": {
        "id": "Jz7SDqVlzZgN"
      },
      "source": [
        "#Tokens que são Stopwords\n",
        "stop_tokens = [word for word in tokens if (word in stopWords_list)]"
      ],
      "execution_count": 41,
      "outputs": []
    },
    {
      "cell_type": "code",
      "metadata": {
        "colab": {
          "base_uri": "https://localhost:8080/"
        },
        "id": "bofDy0pvzjcr",
        "outputId": "ce44e639-914a-4c55-f552-127e37d5bcef"
      },
      "source": [
        "print(stop_tokens)"
      ],
      "execution_count": 42,
      "outputs": [
        {
          "output_type": "stream",
          "text": [
            "['how', 'are', 'you', 'doing', 'is', 'and', 'is', 'is', 'should']\n"
          ],
          "name": "stdout"
        }
      ]
    },
    {
      "cell_type": "code",
      "metadata": {
        "id": "psjXL7YFyBKl"
      },
      "source": [
        "#Tokens sem Stopwords\n",
        "clean_tokens = [word for word in tokens if not (word in stopWords_list)]"
      ],
      "execution_count": 43,
      "outputs": []
    },
    {
      "cell_type": "code",
      "metadata": {
        "colab": {
          "base_uri": "https://localhost:8080/"
        },
        "id": "4br3Og1-yw4N",
        "outputId": "1c2ab466-2dae-4ddc-a038-ad96e521edf6"
      },
      "source": [
        "print(clean_tokens)"
      ],
      "execution_count": 44,
      "outputs": [
        {
          "output_type": "stream",
          "text": [
            "['Hello', 'Mr.', 'Smith', ',', 'today', '?', 'The', 'weather', 'great', ',', 'city', 'awesome', '.', 'The', 'sky', 'pinkish-blue', '.', 'You', \"n't\", 'eat', 'cardboard', '.']\n"
          ],
          "name": "stdout"
        }
      ]
    },
    {
      "cell_type": "markdown",
      "metadata": {
        "id": "AJo2tljczz5v"
      },
      "source": [
        "###4. Stemming"
      ]
    },
    {
      "cell_type": "markdown",
      "metadata": {
        "id": "WKlYe7kt2n51"
      },
      "source": [
        "\"Stemming is the process of reducing inflection in words to their root forms such as mapping a group of words to the same stem even if the stem itself is not a valid word in the Language.\"\n",
        "\n",
        "Source: https://www.datacamp.com/community/tutorials/stemming-lemmatization-python?utm_source=adwords_ppc&utm_campaignid=1455363063&utm_adgroupid=65083631748&utm_device=c&utm_keyword=&utm_matchtype=b&utm_network=g&utm_adpostion=&utm_creative=278443377095&utm_targetid=aud-299261629574:dsa-429603003980&utm_loc_interest_ms=&utm_loc_physical_ms=2076&gclid=CjwKCAjwqIiFBhAHEiwANg9szgbGnAzjfeHGHF1YwdxrRgshMjCQAwoI3mPwOwdWq2BYCu1UvkPqJxoCpgwQAvD_BwE"
      ]
    },
    {
      "cell_type": "markdown",
      "metadata": {
        "id": "K1uQzsYO-TZd"
      },
      "source": [
        "PORTER Stemming"
      ]
    },
    {
      "cell_type": "code",
      "metadata": {
        "id": "jd3HhzDurdeF"
      },
      "source": [
        "#import the class PorterStemmer from nltk.stem package\n",
        "from nltk.stem import PorterStemmer\n",
        "#create an object of class PorterStemmer\n",
        "porter = PorterStemmer()"
      ],
      "execution_count": 45,
      "outputs": []
    },
    {
      "cell_type": "code",
      "metadata": {
        "colab": {
          "base_uri": "https://localhost:8080/"
        },
        "id": "iDUj-loQqh0_",
        "outputId": "36b5a8b5-1bf4-46e5-c5e1-98af1d476ee7"
      },
      "source": [
        "#First form => output: a string of the sentences joined\n",
        "#https://www.computersciencemaster.com.br/como-reduzir-uma-palavra-ao-seu-radical-em-python-stemming/\n",
        "for i in range(len(sentences)):\n",
        "    words = nltk.word_tokenize(sentences[i])\n",
        "    newwords = [porter.stem(word) for word in words]\n",
        "    sentences[i] = ' '.join(newwords)\n",
        "print(sentences)"
      ],
      "execution_count": 47,
      "outputs": [
        {
          "output_type": "stream",
          "text": [
            "['hello mr. smith , how are you do today ?', 'the weather is great , and citi is awesom .', 'the sky is pinkish-blu .', \"you should n't eat cardboard .\"]\n"
          ],
          "name": "stdout"
        }
      ]
    },
    {
      "cell_type": "code",
      "metadata": {
        "id": "i2vhCTeCei9d"
      },
      "source": [
        "#Creating a function and just pass the sentence to the function, and it will give you the stemmed sentence.\n",
        "\n",
        "def stemSentence(sentence):\n",
        "    token_words=word_tokenize(sentence)\n",
        "    token_words\n",
        "    stem_sentence=[]\n",
        "    for word in token_words:\n",
        "        stem_sentence.append(porter.stem(word))\n",
        "        stem_sentence.append(\" \")\n",
        "    return \"\".join(stem_sentence)\n",
        "\n",
        "#x=stemSentence(sentence)\n",
        "#print(x)"
      ],
      "execution_count": 49,
      "outputs": []
    },
    {
      "cell_type": "code",
      "metadata": {
        "colab": {
          "base_uri": "https://localhost:8080/"
        },
        "id": "m3jLraPAuKTB",
        "outputId": "0e4fe088-ee2b-49de-f705-d2d327b5fb88"
      },
      "source": [
        "#Second form => output: a list of words\n",
        "newd = []\n",
        "for i in range(len(tokens)):\n",
        "    newd.append(porter.stem(tokens[i]))\n",
        "print(newd)"
      ],
      "execution_count": 50,
      "outputs": [
        {
          "output_type": "stream",
          "text": [
            "['hello', 'mr.', 'smith', ',', 'how', 'are', 'you', 'do', 'today', '?', 'the', 'weather', 'is', 'great', ',', 'and', 'citi', 'is', 'awesom', '.', 'the', 'sky', 'is', 'pinkish-blu', '.', 'you', 'should', \"n't\", 'eat', 'cardboard', '.']\n"
          ],
          "name": "stdout"
        }
      ]
    },
    {
      "cell_type": "markdown",
      "metadata": {
        "id": "T1arX9Sn-Nym"
      },
      "source": [
        "LANCASTER Stemming"
      ]
    },
    {
      "cell_type": "code",
      "metadata": {
        "id": "9UTJ-FnL6UrP"
      },
      "source": [
        "#import the class LancasterStemmer from nltk.stem package\n",
        "from nltk.stem import LancasterStemmer\n",
        "#create an object of class LancasterStemmer\n",
        "lancaster=LancasterStemmer()"
      ],
      "execution_count": 51,
      "outputs": []
    },
    {
      "cell_type": "code",
      "metadata": {
        "colab": {
          "base_uri": "https://localhost:8080/"
        },
        "id": "ocnNo97J9WDU",
        "outputId": "d7891501-742e-4d26-af46-53ba67b5c38b"
      },
      "source": [
        "#First form => output: a string of the sentences joined\n",
        "for i in range(len(sentences)):\n",
        "    words = nltk.word_tokenize(sentences[i])\n",
        "    newwords = [lancaster.stem(word) for word in words]\n",
        "    sentences[i] = ' '.join(newwords)\n",
        "print(sentences)"
      ],
      "execution_count": 52,
      "outputs": [
        {
          "output_type": "stream",
          "text": [
            "['hello mr. smi , how ar you do today ?', 'the weath is gre , and cit is awesom .', 'the sky is pinkish-blu .', \"you should n't eat cardboard .\"]\n"
          ],
          "name": "stdout"
        }
      ]
    },
    {
      "cell_type": "code",
      "metadata": {
        "id": "e2S-a5eIeBnK"
      },
      "source": [
        "#Creating a function and just pass the sentence to the function, and it will give you the stemmed sentence.\n",
        "\n",
        "def stemSentence(sentence):\n",
        "    token_words=word_tokenize(sentence)\n",
        "    token_words\n",
        "    stem_sentence=[]\n",
        "    for word in token_words:\n",
        "        stem_sentence.append(lancaster.stem(word))\n",
        "        stem_sentence.append(\" \")\n",
        "    return \"\".join(stem_sentence)\n",
        "\n",
        "#x=stemSentence(sentence)\n",
        "#print(x)"
      ],
      "execution_count": 53,
      "outputs": []
    },
    {
      "cell_type": "code",
      "metadata": {
        "colab": {
          "base_uri": "https://localhost:8080/"
        },
        "id": "H-pk6HNh9g3r",
        "outputId": "4dbdab80-456c-431d-af13-d6a062dc63d2"
      },
      "source": [
        "#Second form => output: a list of words\n",
        "newd = []\n",
        "for i in range(len(tokens)):\n",
        "    newd.append(lancaster.stem(tokens[i]))\n",
        "print(newd)"
      ],
      "execution_count": 54,
      "outputs": [
        {
          "output_type": "stream",
          "text": [
            "['hello', 'mr.', 'smi', ',', 'how', 'ar', 'you', 'doing', 'today', '?', 'the', 'weath', 'is', 'gre', ',', 'and', 'city', 'is', 'awesom', '.', 'the', 'sky', 'is', 'pinkish-blue', '.', 'you', 'should', \"n't\", 'eat', 'cardboard', '.']\n"
          ],
          "name": "stdout"
        }
      ]
    },
    {
      "cell_type": "markdown",
      "metadata": {
        "id": "0sEneEcq-Ewh"
      },
      "source": [
        "Stemming Comparison PORTER x LANCASTER"
      ]
    },
    {
      "cell_type": "code",
      "metadata": {
        "colab": {
          "base_uri": "https://localhost:8080/"
        },
        "id": "WuRJkpR079_C",
        "outputId": "a1f0c99b-c513-4250-86f2-85e700dac9d7"
      },
      "source": [
        "print(tokens)"
      ],
      "execution_count": 55,
      "outputs": [
        {
          "output_type": "stream",
          "text": [
            "['Hello', 'Mr.', 'Smith', ',', 'how', 'are', 'you', 'doing', 'today', '?', 'The', 'weather', 'is', 'great', ',', 'and', 'city', 'is', 'awesome', '.', 'The', 'sky', 'is', 'pinkish-blue', '.', 'You', 'should', \"n't\", 'eat', 'cardboard', '.']\n"
          ],
          "name": "stdout"
        }
      ]
    },
    {
      "cell_type": "code",
      "metadata": {
        "colab": {
          "base_uri": "https://localhost:8080/"
        },
        "id": "Qmna4Drw67Wd",
        "outputId": "4bee4845-8d53-4350-93f4-d5fa61872192"
      },
      "source": [
        "print(\"{0:30}{1:30}{2:30}\".format(\"Word\",\"Porter Stemmer\",\"Lancaster Stemmer\"))\n",
        "for word in tokens:\n",
        "    print(\"{0:30}{1:30}{2:30}\".format(word,porter.stem(word),lancaster.stem(word)))"
      ],
      "execution_count": 56,
      "outputs": [
        {
          "output_type": "stream",
          "text": [
            "Word                          Porter Stemmer                Lancaster Stemmer             \n",
            "Hello                         hello                         hello                         \n",
            "Mr.                           mr.                           mr.                           \n",
            "Smith                         smith                         smi                           \n",
            ",                             ,                             ,                             \n",
            "how                           how                           how                           \n",
            "are                           are                           ar                            \n",
            "you                           you                           you                           \n",
            "doing                         do                            doing                         \n",
            "today                         today                         today                         \n",
            "?                             ?                             ?                             \n",
            "The                           the                           the                           \n",
            "weather                       weather                       weath                         \n",
            "is                            is                            is                            \n",
            "great                         great                         gre                           \n",
            ",                             ,                             ,                             \n",
            "and                           and                           and                           \n",
            "city                          citi                          city                          \n",
            "is                            is                            is                            \n",
            "awesome                       awesom                        awesom                        \n",
            ".                             .                             .                             \n",
            "The                           the                           the                           \n",
            "sky                           sky                           sky                           \n",
            "is                            is                            is                            \n",
            "pinkish-blue                  pinkish-blu                   pinkish-blue                  \n",
            ".                             .                             .                             \n",
            "You                           you                           you                           \n",
            "should                        should                        should                        \n",
            "n't                           n't                           n't                           \n",
            "eat                           eat                           eat                           \n",
            "cardboard                     cardboard                     cardboard                     \n",
            ".                             .                             .                             \n"
          ],
          "name": "stdout"
        }
      ]
    },
    {
      "cell_type": "markdown",
      "metadata": {
        "id": "P6u1Rpp10I7m"
      },
      "source": [
        "###5. Lemmatization and Postag"
      ]
    },
    {
      "cell_type": "markdown",
      "metadata": {
        "id": "gjNwnor6g4Vc"
      },
      "source": [
        "\"Lemmatization, unlike Stemming, reduces the inflected words properly ensuring that the root word belongs to the language. In Lemmatization root word is called Lemma. A lemma (plural lemmas or lemmata) is the canonical form, dictionary form, or citation form of a set of words.\n",
        "\n",
        "For example, runs, running, ran are all forms of the word run, therefore run is the lemma of all these words. Because lemmatization returns an actual word of the language, it is used where it is necessary to get valid words.\"\n",
        "\n",
        "Source: https://www.datacamp.com/community/tutorials/stemming-lemmatization-python?utm_source=adwords_ppc&utm_campaignid=1455363063&utm_adgroupid=65083631748&utm_device=c&utm_keyword=&utm_matchtype=b&utm_network=g&utm_adpostion=&utm_creative=278443377095&utm_targetid=aud-299261629574:dsa-429603003980&utm_loc_interest_ms=&utm_loc_physical_ms=2076&gclid=CjwKCAjwqIiFBhAHEiwANg9szgbGnAzjfeHGHF1YwdxrRgshMjCQAwoI3mPwOwdWq2BYCu1UvkPqJxoCpgwQAvD_BwE"
      ]
    },
    {
      "cell_type": "code",
      "metadata": {
        "colab": {
          "base_uri": "https://localhost:8080/"
        },
        "id": "HVvtA9dGjWm_",
        "outputId": "7dc9ac36-e6ca-4559-a3a9-03f43c26b7c3"
      },
      "source": [
        "#Note: Download the WordNet corpora from NLTK downloader before using the WordNet Lemmatizer\n",
        "nltk.download()"
      ],
      "execution_count": 57,
      "outputs": [
        {
          "output_type": "stream",
          "text": [
            "NLTK Downloader\n",
            "---------------------------------------------------------------------------\n",
            "    d) Download   l) List    u) Update   c) Config   h) Help   q) Quit\n",
            "---------------------------------------------------------------------------\n",
            "Downloader> d\n",
            "\n",
            "Download which package (l=list; x=cancel)?\n",
            "  Identifier> wordnet\n",
            "    Downloading package wordnet to /root/nltk_data...\n",
            "      Package wordnet is already up-to-date!\n",
            "\n",
            "---------------------------------------------------------------------------\n",
            "    d) Download   l) List    u) Update   c) Config   h) Help   q) Quit\n",
            "---------------------------------------------------------------------------\n",
            "Downloader> q\n"
          ],
          "name": "stdout"
        },
        {
          "output_type": "execute_result",
          "data": {
            "text/plain": [
              "True"
            ]
          },
          "metadata": {
            "tags": []
          },
          "execution_count": 57
        }
      ]
    },
    {
      "cell_type": "code",
      "metadata": {
        "id": "ivS3TP7S0Rn_",
        "colab": {
          "base_uri": "https://localhost:8080/"
        },
        "outputId": "d9936667-26ac-4fe0-f1cd-c87273224016"
      },
      "source": [
        "#Python NLTK provides WordNet Lemmatizer that uses the WordNet Database to lookup lemmas of words.\n",
        "\n",
        "from nltk.stem import WordNetLemmatizer\n",
        "wordnet_lemmatizer = WordNetLemmatizer()\n",
        "\n",
        "punctuations=\"?:!.,;\"\n",
        "\n",
        "for word in tokens:\n",
        "    if word in punctuations:\n",
        "        tokens.remove(word)\n",
        "\n",
        "tokens\n",
        "print(\"{0:30}{1:30}\".format(\"Word\",\"Lemma\"))\n",
        "for word in tokens:\n",
        "    print (\"{0:30}{1:30}\".format(word,wordnet_lemmatizer.lemmatize(word)))"
      ],
      "execution_count": 58,
      "outputs": [
        {
          "output_type": "stream",
          "text": [
            "Word                          Lemma                         \n",
            "Hello                         Hello                         \n",
            "Mr.                           Mr.                           \n",
            "Smith                         Smith                         \n",
            "how                           how                           \n",
            "are                           are                           \n",
            "you                           you                           \n",
            "doing                         doing                         \n",
            "today                         today                         \n",
            "The                           The                           \n",
            "weather                       weather                       \n",
            "is                            is                            \n",
            "great                         great                         \n",
            "and                           and                           \n",
            "city                          city                          \n",
            "is                            is                            \n",
            "awesome                       awesome                       \n",
            "The                           The                           \n",
            "sky                           sky                           \n",
            "is                            is                            \n",
            "pinkish-blue                  pinkish-blue                  \n",
            "You                           You                           \n",
            "should                        should                        \n",
            "n't                           n't                           \n",
            "eat                           eat                           \n",
            "cardboard                     cardboard                     \n"
          ],
          "name": "stdout"
        }
      ]
    },
    {
      "cell_type": "markdown",
      "metadata": {
        "id": "PpcQ2pW4lDB1"
      },
      "source": [
        "\"In the above output, you must be wondering that no actual root form has been given for any word, this is because they are given without context.\n",
        "\n",
        "You need to provide the context in which you want to lemmatize that is the parts-of-speech (POS). This is done by giving the value for pos parameter in wordnet_lemmatizer.lemmatize.\""
      ]
    },
    {
      "cell_type": "code",
      "metadata": {
        "colab": {
          "base_uri": "https://localhost:8080/"
        },
        "id": "BfNfqmnvlP6H",
        "outputId": "faf0e4b1-d9f1-443f-f72d-eaceaf84290a"
      },
      "source": [
        "for word in tokens:\n",
        "    print (\"{0:30}{1:30}\".format(word,wordnet_lemmatizer.lemmatize(word, pos=\"v\")))"
      ],
      "execution_count": 60,
      "outputs": [
        {
          "output_type": "stream",
          "text": [
            "Hello                         Hello                         \n",
            "Mr.                           Mr.                           \n",
            "Smith                         Smith                         \n",
            "how                           how                           \n",
            "are                           be                            \n",
            "you                           you                           \n",
            "doing                         do                            \n",
            "today                         today                         \n",
            "The                           The                           \n",
            "weather                       weather                       \n",
            "is                            be                            \n",
            "great                         great                         \n",
            "and                           and                           \n",
            "city                          city                          \n",
            "is                            be                            \n",
            "awesome                       awesome                       \n",
            "The                           The                           \n",
            "sky                           sky                           \n",
            "is                            be                            \n",
            "pinkish-blue                  pinkish-blue                  \n",
            "You                           You                           \n",
            "should                        should                        \n",
            "n't                           n't                           \n",
            "eat                           eat                           \n",
            "cardboard                     cardboard                     \n"
          ],
          "name": "stdout"
        }
      ]
    },
    {
      "cell_type": "markdown",
      "metadata": {
        "id": "EckhHz-enb3m"
      },
      "source": [
        "Summary - Stemming x Lemmatization\n",
        "\n",
        "\n",
        "\"Stemming and Lemmatization both generate the root form of the inflected words. The difference is that stem might not be an actual word whereas, lemma is an actual language word.\n",
        "\n",
        "Stemming follows an algorithm with steps to perform on the words which makes it faster. Whereas, in lemmatization, you used WordNet corpus and a corpus for stop words as well to produce lemma which makes it slower than stemming. You also had to define a parts-of-speech to obtain the correct lemma.\"\n"
      ]
    },
    {
      "cell_type": "markdown",
      "metadata": {
        "id": "mSrB7bQ-0NGb"
      },
      "source": [
        "###6. Word frequency graph"
      ]
    },
    {
      "cell_type": "code",
      "metadata": {
        "id": "rtt9VGTxug3o",
        "colab": {
          "base_uri": "https://localhost:8080/"
        },
        "outputId": "1918aa30-26c6-4960-a989-34e03cb64696"
      },
      "source": [
        "from collections import Counter\n",
        "\n",
        "# Convert the list in a counting values dictionary\n",
        "\n",
        "word_counts = Counter(tokens)\n",
        "print(word_counts)\n"
      ],
      "execution_count": 61,
      "outputs": [
        {
          "output_type": "stream",
          "text": [
            "Counter({'is': 3, 'The': 2, 'Hello': 1, 'Mr.': 1, 'Smith': 1, 'how': 1, 'are': 1, 'you': 1, 'doing': 1, 'today': 1, 'weather': 1, 'great': 1, 'and': 1, 'city': 1, 'awesome': 1, 'sky': 1, 'pinkish-blue': 1, 'You': 1, 'should': 1, \"n't\": 1, 'eat': 1, 'cardboard': 1})\n"
          ],
          "name": "stdout"
        }
      ]
    },
    {
      "cell_type": "code",
      "metadata": {
        "colab": {
          "base_uri": "https://localhost:8080/",
          "height": 487
        },
        "id": "sRi933jj21fF",
        "outputId": "409d95b5-8791-4d6d-ba61-a912c65f5325"
      },
      "source": [
        "import matplotlib.pyplot as plt\n",
        "\n",
        "fig, (ax1) = plt.subplots(1, figsize=(10,5))\n",
        "ax1.barh(list(word_counts.keys()),list(word_counts.values()))\n",
        "\n",
        "ax1.set(title=\"Word Frequency\", xlabel=\"Nº occurrences\", ylabel=\"Words\")\n",
        "\n",
        "plt.show()"
      ],
      "execution_count": 62,
      "outputs": [
        {
          "output_type": "display_data",
          "data": {
            "image/png": "[encoded data removed]",
            "text/plain": [
              "<Figure size 1000x500 with 1 Axes>"
            ]
          },
          "metadata": {
            "tags": []
          }
        }
      ]
    }
  ]
}