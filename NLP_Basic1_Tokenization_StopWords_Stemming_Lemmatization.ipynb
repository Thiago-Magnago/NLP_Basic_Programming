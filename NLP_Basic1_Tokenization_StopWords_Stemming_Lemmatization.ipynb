{
  "nbformat": 4,
  "nbformat_minor": 0,
  "metadata": {
    "colab": {
      "name": "NLP_Basic1_Tokenization_StopWords_Stemming_Lemmatization.ipynb",
      "provenance": [],
      "include_colab_link": true
    },
    "kernelspec": {
      "name": "python3",
      "display_name": "Python 3"
    },
    "language_info": {
      "name": "python"
    }
  },
  "cells": [
    {
      "cell_type": "markdown",
      "metadata": {
        "id": "view-in-github",
        "colab_type": "text"
      },
      "source": [
        "<a href=\"https://colab.research.google.com/github/Thiago-Magnago/NLP_Basic_Programming/blob/main/NLP_Basic1_Tokenization_StopWords_Stemming_Lemmatization.ipynb\" target=\"_parent\"><img src=\"https://colab.research.google.com/assets/colab-badge.svg\" alt=\"Open In Colab\"/></a>"
      ]
    },
    {
      "cell_type": "markdown",
      "metadata": {
        "id": "JcZbwCqyluaN"
      },
      "source": [
        "###Basic Programming in NLP\n",
        "\n",
        "Exploring NLTK in strings\n",
        "\n",
        "EXERCISES\n",
        "\n",
        "String = \"Hello Mr. Smith, how are you doing today? The weather is great, and city is awesome.\n",
        "The sky is pinkish-blue. You shouldn't eat cardboard\"\n",
        "\n",
        "\n",
        "\n",
        "1. Tokenization (sentences)\n",
        "\n",
        "2. Tokenization (words)\n",
        "\n",
        "3. Stopwords\n",
        "\n",
        "4. Stemming (Porter and Lancaster)\n",
        "\n",
        "5. Lemmatization and Postag\n",
        "\n",
        "6. Word frequency graph"
      ]
    },
    {
      "cell_type": "code",
      "metadata": {
        "colab": {
          "base_uri": "https://localhost:8080/"
        },
        "id": "mL1wpE7RlnZj",
        "outputId": "a6daca90-0cd7-4b58-e6fc-86c65c062a76"
      },
      "source": [
        "#import the nltk package\n",
        "import nltk\n",
        "nltk.download('punkt')"
      ],
      "execution_count": 1,
      "outputs": [
        {
          "output_type": "stream",
          "text": [
            "[nltk_data] Downloading package punkt to /root/nltk_data...\n",
            "[nltk_data]   Unzipping tokenizers/punkt.zip.\n"
          ],
          "name": "stdout"
        },
        {
          "output_type": "execute_result",
          "data": {
            "text/plain": [
              "True"
            ]
          },
          "metadata": {
            "tags": []
          },
          "execution_count": 1
        }
      ]
    },
    {
      "cell_type": "code",
      "metadata": {
        "id": "opc8wbXfqX-T"
      },
      "source": [
        "text = \"Hello Mr. Smith, how are you doing today? The weather is great, and city is awesome. The sky is pinkish-blue. You shouldn't eat cardboard.\""
      ],
      "execution_count": 2,
      "outputs": []
    },
    {
      "cell_type": "markdown",
      "metadata": {
        "id": "D0ZnUS_iz7ZL"
      },
      "source": [
        "###1. Tokenization (sentences)"
      ]
    },
    {
      "cell_type": "code",
      "metadata": {
        "colab": {
          "base_uri": "https://localhost:8080/"
        },
        "id": "Pj7uFUKzrMxt",
        "outputId": "a8ce58f6-5eb8-48fd-a5bf-029d9cec289e"
      },
      "source": [
        "from nltk import sent_tokenize\n",
        "sentences = sent_tokenize(text)\n",
        "print(sentences)"
      ],
      "execution_count": 3,
      "outputs": [
        {
          "output_type": "stream",
          "text": [
            "['Hello Mr. Smith, how are you doing today?', 'The weather is great, and city is awesome.', 'The sky is pinkish-blue.', \"You shouldn't eat cardboard.\"]\n"
          ],
          "name": "stdout"
        }
      ]
    },
    {
      "cell_type": "markdown",
      "metadata": {
        "id": "7a42OV6az4os"
      },
      "source": [
        "###2. Tokenization (words)"
      ]
    },
    {
      "cell_type": "code",
      "metadata": {
        "colab": {
          "base_uri": "https://localhost:8080/"
        },
        "id": "9q7lE_4Jqeom",
        "outputId": "dbb0b721-c498-44f6-af78-bae7d7615379"
      },
      "source": [
        "from nltk import word_tokenize\n",
        "tokens = word_tokenize(text)\n",
        "print(tokens)"
      ],
      "execution_count": 4,
      "outputs": [
        {
          "output_type": "stream",
          "text": [
            "['Hello', 'Mr.', 'Smith', ',', 'how', 'are', 'you', 'doing', 'today', '?', 'The', 'weather', 'is', 'great', ',', 'and', 'city', 'is', 'awesome', '.', 'The', 'sky', 'is', 'pinkish-blue', '.', 'You', 'should', \"n't\", 'eat', 'cardboard', '.']\n"
          ],
          "name": "stdout"
        }
      ]
    },
    {
      "cell_type": "markdown",
      "metadata": {
        "id": "Dj3yT7_9xuEw"
      },
      "source": [
        "###3. Stopwords"
      ]
    },
    {
      "cell_type": "code",
      "metadata": {
        "colab": {
          "base_uri": "https://localhost:8080/"
        },
        "id": "DGdZz4G3xoh4",
        "outputId": "73b314a1-7e75-44c7-d17f-7fc8d00a00e9"
      },
      "source": [
        "nltk.download('stopwords')\n",
        "from nltk.corpus import stopwords"
      ],
      "execution_count": 5,
      "outputs": [
        {
          "output_type": "stream",
          "text": [
            "[nltk_data] Downloading package stopwords to /root/nltk_data...\n",
            "[nltk_data]   Unzipping corpora/stopwords.zip.\n"
          ],
          "name": "stdout"
        }
      ]
    },
    {
      "cell_type": "code",
      "metadata": {
        "id": "VXSyIEsIx1oi"
      },
      "source": [
        "stopWords_list = list(stopwords.words('english'))"
      ],
      "execution_count": 6,
      "outputs": []
    },
    {
      "cell_type": "code",
      "metadata": {
        "colab": {
          "base_uri": "https://localhost:8080/"
        },
        "id": "CBVcdvwAx3fE",
        "outputId": "eb57b0e2-7289-45f2-f48e-30849ccd9235"
      },
      "source": [
        "stopWords_list[0:10]"
      ],
      "execution_count": 7,
      "outputs": [
        {
          "output_type": "execute_result",
          "data": {
            "text/plain": [
              "['i', 'me', 'my', 'myself', 'we', 'our', 'ours', 'ourselves', 'you', \"you're\"]"
            ]
          },
          "metadata": {
            "tags": []
          },
          "execution_count": 7
        }
      ]
    },
    {
      "cell_type": "code",
      "metadata": {
        "id": "Jz7SDqVlzZgN"
      },
      "source": [
        "#Tokens que são Stopwords\n",
        "stop_tokens = [word for word in tokens if (word in stopWords_list)]"
      ],
      "execution_count": 8,
      "outputs": []
    },
    {
      "cell_type": "code",
      "metadata": {
        "colab": {
          "base_uri": "https://localhost:8080/"
        },
        "id": "bofDy0pvzjcr",
        "outputId": "191bd10d-301f-45c5-e877-63527cdad853"
      },
      "source": [
        "print(stop_tokens)"
      ],
      "execution_count": 9,
      "outputs": [
        {
          "output_type": "stream",
          "text": [
            "['how', 'are', 'you', 'doing', 'is', 'and', 'is', 'is', 'should']\n"
          ],
          "name": "stdout"
        }
      ]
    },
    {
      "cell_type": "code",
      "metadata": {
        "id": "psjXL7YFyBKl"
      },
      "source": [
        "#Tokens sem Stopwords\n",
        "clean_tokens = [word for word in tokens if not (word in stopWords_list)]"
      ],
      "execution_count": 10,
      "outputs": []
    },
    {
      "cell_type": "code",
      "metadata": {
        "colab": {
          "base_uri": "https://localhost:8080/"
        },
        "id": "4br3Og1-yw4N",
        "outputId": "38b2e64e-bd51-4c2f-94f0-1fa63e97c972"
      },
      "source": [
        "print(clean_tokens)"
      ],
      "execution_count": 11,
      "outputs": [
        {
          "output_type": "stream",
          "text": [
            "['Hello', 'Mr.', 'Smith', ',', 'today', '?', 'The', 'weather', 'great', ',', 'city', 'awesome', '.', 'The', 'sky', 'pinkish-blue', '.', 'You', \"n't\", 'eat', 'cardboard', '.']\n"
          ],
          "name": "stdout"
        }
      ]
    },
    {
      "cell_type": "markdown",
      "metadata": {
        "id": "AJo2tljczz5v"
      },
      "source": [
        "###4. Stemming"
      ]
    },
    {
      "cell_type": "markdown",
      "metadata": {
        "id": "WKlYe7kt2n51"
      },
      "source": [
        "\"Stemming is the process of reducing inflection in words to their root forms such as mapping a group of words to the same stem even if the stem itself is not a valid word in the Language.\"\n",
        "\n",
        "Source: https://www.datacamp.com/community/tutorials/stemming-lemmatization-python?utm_source=adwords_ppc&utm_campaignid=1455363063&utm_adgroupid=65083631748&utm_device=c&utm_keyword=&utm_matchtype=b&utm_network=g&utm_adpostion=&utm_creative=278443377095&utm_targetid=aud-299261629574:dsa-429603003980&utm_loc_interest_ms=&utm_loc_physical_ms=2076&gclid=CjwKCAjwqIiFBhAHEiwANg9szgbGnAzjfeHGHF1YwdxrRgshMjCQAwoI3mPwOwdWq2BYCu1UvkPqJxoCpgwQAvD_BwE"
      ]
    },
    {
      "cell_type": "markdown",
      "metadata": {
        "id": "K1uQzsYO-TZd"
      },
      "source": [
        "PORTER Stemming"
      ]
    },
    {
      "cell_type": "code",
      "metadata": {
        "id": "jd3HhzDurdeF"
      },
      "source": [
        "#import the class PorterStemmer from nltk.stem package\n",
        "from nltk.stem import PorterStemmer\n",
        "#create an object of class PorterStemmer\n",
        "porter = PorterStemmer()"
      ],
      "execution_count": 12,
      "outputs": []
    },
    {
      "cell_type": "code",
      "metadata": {
        "colab": {
          "base_uri": "https://localhost:8080/"
        },
        "id": "iDUj-loQqh0_",
        "outputId": "dab29b77-b8c4-46f8-8657-864750a39672"
      },
      "source": [
        "#First form => output: a string of the sentences joined\n",
        "#https://www.computersciencemaster.com.br/como-reduzir-uma-palavra-ao-seu-radical-em-python-stemming/\n",
        "for i in range(len(sentences)):\n",
        "    words = nltk.word_tokenize(sentences[i])\n",
        "    newwords = [porter.stem(word) for word in words]\n",
        "    sentences[i] = ' '.join(newwords)\n",
        "print(sentences)"
      ],
      "execution_count": 13,
      "outputs": [
        {
          "output_type": "stream",
          "text": [
            "['hello mr. smith , how are you do today ?', 'the weather is great , and citi is awesom .', 'the sky is pinkish-blu .', \"you should n't eat cardboard .\"]\n"
          ],
          "name": "stdout"
        }
      ]
    },
    {
      "cell_type": "code",
      "metadata": {
        "id": "i2vhCTeCei9d"
      },
      "source": [
        "#Creating a function and just pass the sentence to the function, and it will give you the stemmed sentence.\n",
        "\n",
        "def stemSentence(sentence):\n",
        "    token_words=word_tokenize(sentence)\n",
        "    token_words\n",
        "    stem_sentence=[]\n",
        "    for word in token_words:\n",
        "        stem_sentence.append(porter.stem(word))\n",
        "        stem_sentence.append(\" \")\n",
        "    return \"\".join(stem_sentence)\n",
        "\n",
        "#x=stemSentence(sentence)\n",
        "#print(x)"
      ],
      "execution_count": 14,
      "outputs": []
    },
    {
      "cell_type": "code",
      "metadata": {
        "colab": {
          "base_uri": "https://localhost:8080/"
        },
        "id": "m3jLraPAuKTB",
        "outputId": "59ef3b8f-42bd-415a-f3c7-9eedd7c1f197"
      },
      "source": [
        "#Second form => output: a list of words\n",
        "newd = []\n",
        "for i in range(len(tokens)):\n",
        "    newd.append(porter.stem(tokens[i]))\n",
        "print(newd)"
      ],
      "execution_count": 15,
      "outputs": [
        {
          "output_type": "stream",
          "text": [
            "['hello', 'mr.', 'smith', ',', 'how', 'are', 'you', 'do', 'today', '?', 'the', 'weather', 'is', 'great', ',', 'and', 'citi', 'is', 'awesom', '.', 'the', 'sky', 'is', 'pinkish-blu', '.', 'you', 'should', \"n't\", 'eat', 'cardboard', '.']\n"
          ],
          "name": "stdout"
        }
      ]
    },
    {
      "cell_type": "markdown",
      "metadata": {
        "id": "T1arX9Sn-Nym"
      },
      "source": [
        "LANCASTER Stemming"
      ]
    },
    {
      "cell_type": "code",
      "metadata": {
        "id": "9UTJ-FnL6UrP"
      },
      "source": [
        "#import the class LancasterStemmer from nltk.stem package\n",
        "from nltk.stem import LancasterStemmer\n",
        "#create an object of class LancasterStemmer\n",
        "lancaster=LancasterStemmer()"
      ],
      "execution_count": 16,
      "outputs": []
    },
    {
      "cell_type": "code",
      "metadata": {
        "colab": {
          "base_uri": "https://localhost:8080/"
        },
        "id": "ocnNo97J9WDU",
        "outputId": "aaed2be3-30ea-4daf-899f-1475b34ecd20"
      },
      "source": [
        "#First form => output: a string of the sentences joined\n",
        "for i in range(len(sentences)):\n",
        "    words = nltk.word_tokenize(sentences[i])\n",
        "    newwords = [lancaster.stem(word) for word in words]\n",
        "    sentences[i] = ' '.join(newwords)\n",
        "print(sentences)"
      ],
      "execution_count": 17,
      "outputs": [
        {
          "output_type": "stream",
          "text": [
            "['hello mr. smi , how ar you do today ?', 'the weath is gre , and cit is awesom .', 'the sky is pinkish-blu .', \"you should n't eat cardboard .\"]\n"
          ],
          "name": "stdout"
        }
      ]
    },
    {
      "cell_type": "code",
      "metadata": {
        "id": "e2S-a5eIeBnK"
      },
      "source": [
        "#Creating a function and just pass the sentence to the function, and it will give you the stemmed sentence.\n",
        "\n",
        "def stemSentence(sentence):\n",
        "    token_words=word_tokenize(sentence)\n",
        "    token_words\n",
        "    stem_sentence=[]\n",
        "    for word in token_words:\n",
        "        stem_sentence.append(lancaster.stem(word))\n",
        "        stem_sentence.append(\" \")\n",
        "    return \"\".join(stem_sentence)\n",
        "\n",
        "#x=stemSentence(sentence)\n",
        "#print(x)"
      ],
      "execution_count": 18,
      "outputs": []
    },
    {
      "cell_type": "code",
      "metadata": {
        "colab": {
          "base_uri": "https://localhost:8080/"
        },
        "id": "H-pk6HNh9g3r",
        "outputId": "f3a35e98-d854-4c2f-84b6-668fb2dbe36d"
      },
      "source": [
        "#Second form => output: a list of words\n",
        "newd = []\n",
        "for i in range(len(tokens)):\n",
        "    newd.append(lancaster.stem(tokens[i]))\n",
        "print(newd)"
      ],
      "execution_count": 19,
      "outputs": [
        {
          "output_type": "stream",
          "text": [
            "['hello', 'mr.', 'smi', ',', 'how', 'ar', 'you', 'doing', 'today', '?', 'the', 'weath', 'is', 'gre', ',', 'and', 'city', 'is', 'awesom', '.', 'the', 'sky', 'is', 'pinkish-blue', '.', 'you', 'should', \"n't\", 'eat', 'cardboard', '.']\n"
          ],
          "name": "stdout"
        }
      ]
    },
    {
      "cell_type": "markdown",
      "metadata": {
        "id": "0sEneEcq-Ewh"
      },
      "source": [
        "Stemming Comparison PORTER x LANCASTER"
      ]
    },
    {
      "cell_type": "code",
      "metadata": {
        "colab": {
          "base_uri": "https://localhost:8080/"
        },
        "id": "WuRJkpR079_C",
        "outputId": "8765cb48-e6f0-4262-8d3e-1f0489d0df99"
      },
      "source": [
        "print(tokens)"
      ],
      "execution_count": 20,
      "outputs": [
        {
          "output_type": "stream",
          "text": [
            "['Hello', 'Mr.', 'Smith', ',', 'how', 'are', 'you', 'doing', 'today', '?', 'The', 'weather', 'is', 'great', ',', 'and', 'city', 'is', 'awesome', '.', 'The', 'sky', 'is', 'pinkish-blue', '.', 'You', 'should', \"n't\", 'eat', 'cardboard', '.']\n"
          ],
          "name": "stdout"
        }
      ]
    },
    {
      "cell_type": "code",
      "metadata": {
        "colab": {
          "base_uri": "https://localhost:8080/"
        },
        "id": "Qmna4Drw67Wd",
        "outputId": "bc77eb32-64ab-4fec-bc35-d09cae862813"
      },
      "source": [
        "print(\"{0:30}{1:30}{2:30}\".format(\"Word\",\"Porter Stemmer\",\"Lancaster Stemmer\"))\n",
        "for word in tokens:\n",
        "    print(\"{0:30}{1:30}{2:30}\".format(word,porter.stem(word),lancaster.stem(word)))"
      ],
      "execution_count": 21,
      "outputs": [
        {
          "output_type": "stream",
          "text": [
            "Word                          Porter Stemmer                Lancaster Stemmer             \n",
            "Hello                         hello                         hello                         \n",
            "Mr.                           mr.                           mr.                           \n",
            "Smith                         smith                         smi                           \n",
            ",                             ,                             ,                             \n",
            "how                           how                           how                           \n",
            "are                           are                           ar                            \n",
            "you                           you                           you                           \n",
            "doing                         do                            doing                         \n",
            "today                         today                         today                         \n",
            "?                             ?                             ?                             \n",
            "The                           the                           the                           \n",
            "weather                       weather                       weath                         \n",
            "is                            is                            is                            \n",
            "great                         great                         gre                           \n",
            ",                             ,                             ,                             \n",
            "and                           and                           and                           \n",
            "city                          citi                          city                          \n",
            "is                            is                            is                            \n",
            "awesome                       awesom                        awesom                        \n",
            ".                             .                             .                             \n",
            "The                           the                           the                           \n",
            "sky                           sky                           sky                           \n",
            "is                            is                            is                            \n",
            "pinkish-blue                  pinkish-blu                   pinkish-blue                  \n",
            ".                             .                             .                             \n",
            "You                           you                           you                           \n",
            "should                        should                        should                        \n",
            "n't                           n't                           n't                           \n",
            "eat                           eat                           eat                           \n",
            "cardboard                     cardboard                     cardboard                     \n",
            ".                             .                             .                             \n"
          ],
          "name": "stdout"
        }
      ]
    },
    {
      "cell_type": "markdown",
      "metadata": {
        "id": "P6u1Rpp10I7m"
      },
      "source": [
        "###5. Lemmatization and Postag"
      ]
    },
    {
      "cell_type": "markdown",
      "metadata": {
        "id": "gjNwnor6g4Vc"
      },
      "source": [
        "\"Lemmatization, unlike Stemming, reduces the inflected words properly ensuring that the root word belongs to the language. In Lemmatization root word is called Lemma. A lemma (plural lemmas or lemmata) is the canonical form, dictionary form, or citation form of a set of words.\n",
        "\n",
        "For example, runs, running, ran are all forms of the word run, therefore run is the lemma of all these words. Because lemmatization returns an actual word of the language, it is used where it is necessary to get valid words.\"\n",
        "\n",
        "Source: https://www.datacamp.com/community/tutorials/stemming-lemmatization-python?utm_source=adwords_ppc&utm_campaignid=1455363063&utm_adgroupid=65083631748&utm_device=c&utm_keyword=&utm_matchtype=b&utm_network=g&utm_adpostion=&utm_creative=278443377095&utm_targetid=aud-299261629574:dsa-429603003980&utm_loc_interest_ms=&utm_loc_physical_ms=2076&gclid=CjwKCAjwqIiFBhAHEiwANg9szgbGnAzjfeHGHF1YwdxrRgshMjCQAwoI3mPwOwdWq2BYCu1UvkPqJxoCpgwQAvD_BwE"
      ]
    },
    {
      "cell_type": "code",
      "metadata": {
        "colab": {
          "base_uri": "https://localhost:8080/"
        },
        "id": "HVvtA9dGjWm_",
        "outputId": "9e84279c-2266-455e-cfe2-cf5b5fa6962e"
      },
      "source": [
        "#Note: Download the WordNet corpora from NLTK downloader before using the WordNet Lemmatizer\n",
        "nltk.download()"
      ],
      "execution_count": 24,
      "outputs": [
        {
          "output_type": "stream",
          "text": [
            "NLTK Downloader\n",
            "---------------------------------------------------------------------------\n",
            "    d) Download   l) List    u) Update   c) Config   h) Help   q) Quit\n",
            "---------------------------------------------------------------------------\n",
            "Downloader> d\n",
            "\n",
            "Download which package (l=list; x=cancel)?\n",
            "  Identifier> wordnet\n",
            "    Downloading package wordnet to /root/nltk_data...\n",
            "      Unzipping corpora/wordnet.zip.\n",
            "\n",
            "---------------------------------------------------------------------------\n",
            "    d) Download   l) List    u) Update   c) Config   h) Help   q) Quit\n",
            "---------------------------------------------------------------------------\n",
            "Downloader> q\n"
          ],
          "name": "stdout"
        },
        {
          "output_type": "execute_result",
          "data": {
            "text/plain": [
              "True"
            ]
          },
          "metadata": {
            "tags": []
          },
          "execution_count": 24
        }
      ]
    },
    {
      "cell_type": "code",
      "metadata": {
        "id": "ivS3TP7S0Rn_",
        "colab": {
          "base_uri": "https://localhost:8080/"
        },
        "outputId": "54e5b93f-af29-47f8-c2d4-acd4b2dd5707"
      },
      "source": [
        "#Python NLTK provides WordNet Lemmatizer that uses the WordNet Database to lookup lemmas of words.\n",
        "\n",
        "from nltk.stem import WordNetLemmatizer\n",
        "wordnet_lemmatizer = WordNetLemmatizer()\n",
        "\n",
        "punctuations=\"?:!.,;\"\n",
        "\n",
        "for word in tokens:\n",
        "    if word in punctuations:\n",
        "        tokens.remove(word)\n",
        "\n",
        "tokens\n",
        "print(\"{0:30}{1:30}\".format(\"Word\",\"Lemma\"))\n",
        "for word in tokens:\n",
        "    print (\"{0:30}{1:30}\".format(word,wordnet_lemmatizer.lemmatize(word)))"
      ],
      "execution_count": 25,
      "outputs": [
        {
          "output_type": "stream",
          "text": [
            "Word                          Lemma                         \n",
            "Hello                         Hello                         \n",
            "Mr.                           Mr.                           \n",
            "Smith                         Smith                         \n",
            "how                           how                           \n",
            "are                           are                           \n",
            "you                           you                           \n",
            "doing                         doing                         \n",
            "today                         today                         \n",
            "The                           The                           \n",
            "weather                       weather                       \n",
            "is                            is                            \n",
            "great                         great                         \n",
            "and                           and                           \n",
            "city                          city                          \n",
            "is                            is                            \n",
            "awesome                       awesome                       \n",
            "The                           The                           \n",
            "sky                           sky                           \n",
            "is                            is                            \n",
            "pinkish-blue                  pinkish-blue                  \n",
            "You                           You                           \n",
            "should                        should                        \n",
            "n't                           n't                           \n",
            "eat                           eat                           \n",
            "cardboard                     cardboard                     \n"
          ],
          "name": "stdout"
        }
      ]
    },
    {
      "cell_type": "markdown",
      "metadata": {
        "id": "PpcQ2pW4lDB1"
      },
      "source": [
        "\"In the above output, you must be wondering that no actual root form has been given for any word, this is because they are given without context.\n",
        "\n",
        "You need to provide the context in which you want to lemmatize that is the parts-of-speech (POS). This is done by giving the value for pos parameter in wordnet_lemmatizer.lemmatize.\""
      ]
    },
    {
      "cell_type": "code",
      "metadata": {
        "colab": {
          "base_uri": "https://localhost:8080/"
        },
        "id": "BfNfqmnvlP6H",
        "outputId": "5d3d470d-931d-4c1d-a9bd-e1ab638d6686"
      },
      "source": [
        "for word in tokens:\n",
        "    print (\"{0:30}{1:30}\".format(word,wordnet_lemmatizer.lemmatize(word, pos=\"v\")))"
      ],
      "execution_count": 26,
      "outputs": [
        {
          "output_type": "stream",
          "text": [
            "Hello                         Hello                         \n",
            "Mr.                           Mr.                           \n",
            "Smith                         Smith                         \n",
            "how                           how                           \n",
            "are                           be                            \n",
            "you                           you                           \n",
            "doing                         do                            \n",
            "today                         today                         \n",
            "The                           The                           \n",
            "weather                       weather                       \n",
            "is                            be                            \n",
            "great                         great                         \n",
            "and                           and                           \n",
            "city                          city                          \n",
            "is                            be                            \n",
            "awesome                       awesome                       \n",
            "The                           The                           \n",
            "sky                           sky                           \n",
            "is                            be                            \n",
            "pinkish-blue                  pinkish-blue                  \n",
            "You                           You                           \n",
            "should                        should                        \n",
            "n't                           n't                           \n",
            "eat                           eat                           \n",
            "cardboard                     cardboard                     \n"
          ],
          "name": "stdout"
        }
      ]
    },
    {
      "cell_type": "markdown",
      "metadata": {
        "id": "EckhHz-enb3m"
      },
      "source": [
        "Summary - Stemming x Lemmatization\n",
        "\n",
        "\n",
        "\"Stemming and Lemmatization both generate the root form of the inflected words. The difference is that stem might not be an actual word whereas, lemma is an actual language word.\n",
        "\n",
        "Stemming follows an algorithm with steps to perform on the words which makes it faster. Whereas, in lemmatization, you used WordNet corpus and a corpus for stop words as well to produce lemma which makes it slower than stemming. You also had to define a parts-of-speech to obtain the correct lemma.\"\n"
      ]
    },
    {
      "cell_type": "markdown",
      "metadata": {
        "id": "ZOHHt4uTKPbh"
      },
      "source": [
        "POS Tagging"
      ]
    },
    {
      "cell_type": "code",
      "metadata": {
        "id": "EJINAdafKnqY",
        "outputId": "cc988adc-0ec8-41e8-f2e3-2ef8b0279836",
        "colab": {
          "base_uri": "https://localhost:8080/"
        }
      },
      "source": [
        "nltk.download('state_union')\n",
        "from nltk.tokenize import PunktSentenceTokenizer\n",
        "\n",
        "train_text = state_union.raw(\"2005-GWBush.txt\")\n",
        "sample_text = text\n",
        "\n",
        "custom_sent_tokenizer = PunktSentenceTokenizer(train_text)\n",
        "\n",
        "tokenized = custom_sent_tokenizer.tokenize(sample_text)\n",
        "\n",
        "def process_content():\n",
        "  try:\n",
        "    for i in tokenized:\n",
        "      words = nltk.word_tokenize(i)\n",
        "      tagged = nltk.pos_tag(words)\n",
        "      print(tagged)\n",
        "\n",
        "\n",
        "  except Exception as e:\n",
        "    print(str(e))\n"
      ],
      "execution_count": 31,
      "outputs": [
        {
          "output_type": "stream",
          "text": [
            "[nltk_data] Downloading package state_union to /root/nltk_data...\n",
            "[nltk_data]   Unzipping corpora/state_union.zip.\n"
          ],
          "name": "stdout"
        }
      ]
    },
    {
      "cell_type": "code",
      "metadata": {
        "id": "Q2FtI3MoSotS",
        "outputId": "7448037a-2388-4c81-cb2f-6801caa0600d",
        "colab": {
          "base_uri": "https://localhost:8080/"
        }
      },
      "source": [
        "nltk.download('averaged_perceptron_tagger')"
      ],
      "execution_count": 33,
      "outputs": [
        {
          "output_type": "stream",
          "text": [
            "[nltk_data] Downloading package averaged_perceptron_tagger to\n",
            "[nltk_data]     /root/nltk_data...\n",
            "[nltk_data]   Unzipping taggers/averaged_perceptron_tagger.zip.\n"
          ],
          "name": "stdout"
        },
        {
          "output_type": "execute_result",
          "data": {
            "text/plain": [
              "True"
            ]
          },
          "metadata": {
            "tags": []
          },
          "execution_count": 33
        }
      ]
    },
    {
      "cell_type": "code",
      "metadata": {
        "id": "DGiM7QcUSb9I",
        "outputId": "81166616-b2a4-41f8-a29b-3b5395691230",
        "colab": {
          "base_uri": "https://localhost:8080/"
        }
      },
      "source": [
        "process_content()"
      ],
      "execution_count": 34,
      "outputs": [
        {
          "output_type": "stream",
          "text": [
            "[('Hello', 'NNP'), ('Mr.', 'NNP'), ('Smith', 'NNP'), (',', ','), ('how', 'WRB'), ('are', 'VBP'), ('you', 'PRP'), ('doing', 'VBG'), ('today', 'NN'), ('?', '.')]\n",
            "[('The', 'DT'), ('weather', 'NN'), ('is', 'VBZ'), ('great', 'JJ'), (',', ','), ('and', 'CC'), ('city', 'NN'), ('is', 'VBZ'), ('awesome', 'JJ'), ('.', '.')]\n",
            "[('The', 'DT'), ('sky', 'NN'), ('is', 'VBZ'), ('pinkish-blue', 'JJ'), ('.', '.')]\n",
            "[('You', 'PRP'), ('should', 'MD'), (\"n't\", 'RB'), ('eat', 'VB'), ('cardboard', 'NN'), ('.', '.')]\n"
          ],
          "name": "stdout"
        }
      ]
    },
    {
      "cell_type": "markdown",
      "metadata": {
        "id": "mSrB7bQ-0NGb"
      },
      "source": [
        "###6. Word frequency graph"
      ]
    },
    {
      "cell_type": "code",
      "metadata": {
        "id": "rtt9VGTxug3o"
      },
      "source": [
        "from collections import Counter\n",
        "\n",
        "# Convert the list in a counting values dictionary\n",
        "\n",
        "word_counts = Counter(tokens)\n",
        "print(word_counts)\n"
      ],
      "execution_count": null,
      "outputs": []
    },
    {
      "cell_type": "code",
      "metadata": {
        "colab": {
          "base_uri": "https://localhost:8080/",
          "height": 350
        },
        "id": "sRi933jj21fF",
        "outputId": "231903bb-5701-4a6a-a635-9985cb3568f7"
      },
      "source": [
        "import matplotlib.pyplot as plt\n",
        "\n",
        "fig, (ax1) = plt.subplots(1, figsize=(10,5))\n",
        "ax1.barh(list(word_counts.keys()),list(word_counts.values()))\n",
        "\n",
        "ax1.set(title=\"Word Frequency\", xlabel=\"Nº occurrences\", ylabel=\"Words\")\n",
        "\n",
        "plt.show()"
      ],
      "execution_count": 28,
      "outputs": [
        {
          "output_type": "display_data",
          "data": {
            "image/png": "[encoded data removed]",
            "text/plain": [
              "<Figure size 720x360 with 1 Axes>"
            ]
          },
          "metadata": {
            "tags": [],
            "needs_background": "light"
          }
        }
      ]
    }
  ]
}